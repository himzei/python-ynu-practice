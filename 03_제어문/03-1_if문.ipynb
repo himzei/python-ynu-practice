{
 "cells": [
  {
   "cell_type": "markdown",
   "metadata": {},
   "source": [
    "### if문은 왜 필요한가? \n",
    "* 돈이 있으면 택시를 타고 가고, 돈이 없으면 걸어간다"
   ]
  },
  {
   "cell_type": "code",
   "execution_count": 5,
   "metadata": {},
   "outputs": [
    {
     "name": "stdout",
     "output_type": "stream",
     "text": [
      "걸어가라\n"
     ]
    }
   ],
   "source": [
    "# PowerBI \n",
    "# IF(logical_test, values_if_true, values_if_false)\n",
    "\n",
    "money = False\n",
    "if money: \n",
    "    print(\"택시를 타고 가라\")\n",
    "else: \n",
    "    print(\"걸어가라\")\n",
    "    "
   ]
  },
  {
   "cell_type": "code",
   "execution_count": 7,
   "metadata": {},
   "outputs": [
    {
     "name": "stdout",
     "output_type": "stream",
     "text": [
      "택시를\n",
      "타고\n",
      "가라\n"
     ]
    }
   ],
   "source": [
    "money = True\n",
    "\n",
    "if money: \n",
    "    print(\"택시를\")\n",
    "\n",
    "    print(\"타고\")\n",
    "\n",
    "    print(\"가라\")"
   ]
  },
  {
   "cell_type": "code",
   "execution_count": 13,
   "metadata": {},
   "outputs": [
    {
     "name": "stdout",
     "output_type": "stream",
     "text": [
      "True\n",
      "False\n",
      "True\n",
      "False\n",
      "False\n",
      "True\n"
     ]
    }
   ],
   "source": [
    "# 비교연산자 \n",
    "\n",
    "x = 3 \n",
    "y = 2\n",
    "\n",
    "print(x > y) \n",
    "print(x < y) \n",
    "print(x >= y) \n",
    "print(x <= y) \n",
    "print(x == y) \n",
    "print(x != y) \n"
   ]
  },
  {
   "cell_type": "code",
   "execution_count": 14,
   "metadata": {},
   "outputs": [
    {
     "name": "stdout",
     "output_type": "stream",
     "text": [
      "걸어가라\n"
     ]
    }
   ],
   "source": [
    "# 만약 3000원 이상의 돈을 가지고 있으면 택시를 타고 가고, 그렇지 않으면 걸어가라 \n",
    "\n",
    "money = 2000\n",
    "\n",
    "if money >= 3000:\n",
    "    print(\"택시를 타고 가라\")\n",
    "else:\n",
    "    print(\"걸어가라\")"
   ]
  },
  {
   "cell_type": "code",
   "execution_count": null,
   "metadata": {},
   "outputs": [],
   "source": [
    "# and, or, not\n",
    "\n",
    "# 돈이 3000원 이상 있거나 카드가 있다면 택시를 타고 가고, 그렇지 않으면 걸어가라 \n",
    "\n",
    "money = 2000\n",
    "card = True \n",
    "\n",
    "if money >= 3000 or card: \n",
    "    print(\"택시를 타고 가라\")\n",
    "else: \n",
    "    print(\"걸어가라\")"
   ]
  },
  {
   "cell_type": "code",
   "execution_count": 16,
   "metadata": {},
   "outputs": [
    {
     "data": {
      "text/plain": [
       "False"
      ]
     },
     "execution_count": 16,
     "metadata": {},
     "output_type": "execute_result"
    }
   ],
   "source": [
    "1 in [1, 2, 3]\n",
    "\n",
    "1 not in [1, 2, 3]"
   ]
  },
  {
   "cell_type": "code",
   "execution_count": 19,
   "metadata": {},
   "outputs": [
    {
     "name": "stdout",
     "output_type": "stream",
     "text": [
      "True\n",
      "False\n"
     ]
    }
   ],
   "source": [
    "print(\"a\" in [\"a\", \"b\", \"c\"])\n",
    "print(\"a\" not in [\"a\", \"b\", \"c\"])"
   ]
  },
  {
   "cell_type": "code",
   "execution_count": 20,
   "metadata": {},
   "outputs": [
    {
     "name": "stdout",
     "output_type": "stream",
     "text": [
      "택시를 타고 가라\n"
     ]
    }
   ],
   "source": [
    "pocket = [\"paper\", \"cellphone\", \"money\"]\n",
    "\n",
    "if \"money\" in pocket: \n",
    "    print(\"택시를 타고 가라\")\n",
    "else: \n",
    "    print(\"걸어가라\")"
   ]
  },
  {
   "cell_type": "code",
   "execution_count": 21,
   "metadata": {},
   "outputs": [
    {
     "name": "stdout",
     "output_type": "stream",
     "text": [
      "걸어가라\n"
     ]
    }
   ],
   "source": [
    "pocket = [\"paper\", \"cellphone\", \"money\"]\n",
    "\n",
    "if \"card\" not in pocket: \n",
    "    print(\"걸어가라\")\n",
    "else: \n",
    "    print(\"버스를 타고 가라 \")"
   ]
  },
  {
   "cell_type": "code",
   "execution_count": 22,
   "metadata": {},
   "outputs": [],
   "source": [
    "# 주머니에 돈이 있으면 가만히 있고, 주머니에 돈이 없으면 카드를 꺼내라 \n",
    "\n",
    "pocket = [ \"paper\", \"money\", \"cellphone\"]\n",
    "\n",
    "if 'money' in pocket: \n",
    "    pass\n",
    "else: \n",
    "    print(\"카드를 꺼내라\")"
   ]
  },
  {
   "cell_type": "code",
   "execution_count": 23,
   "metadata": {},
   "outputs": [],
   "source": [
    "# 다양한 조건을 판단하는 elif \n",
    "\n",
    "# 주머니에 돈이 있으면 택시를 타고 가고, \n",
    "# 주머니에 돈은 없지만 카드가 있으면 택시를 타고 가고 돈도 없고 카드도 없으면 걸어가라"
   ]
  },
  {
   "cell_type": "code",
   "execution_count": 24,
   "metadata": {},
   "outputs": [
    {
     "name": "stdout",
     "output_type": "stream",
     "text": [
      "택시를 타고 가라\n"
     ]
    }
   ],
   "source": [
    "pocket = [\"paper\", \"cellphone\"]\n",
    "card = True\n",
    "\n",
    "# 중첩if \n",
    "\n",
    "if \"money\" in pocket: \n",
    "    print(\"택시를 타고 가라\")\n",
    "else: \n",
    "    if card == True: \n",
    "        print(\"택시를 타고 가라\")\n",
    "    else: \n",
    "        print(\"걸어 가라\")\n"
   ]
  },
  {
   "cell_type": "code",
   "execution_count": 26,
   "metadata": {},
   "outputs": [
    {
     "name": "stdout",
     "output_type": "stream",
     "text": [
      "걸어 가라\n"
     ]
    }
   ],
   "source": [
    "pocket = [\"paper\", \"cellphone\"]\n",
    "card = False\n",
    "\n",
    "# elif 사용\n",
    "\n",
    "if \"money\" in pocket: \n",
    "    print(\"택시를 타고 가라 1\")\n",
    "elif card == True: \n",
    "    print(\"택시를 타고 가라 2\")\n",
    "else: \n",
    "    print(\"걸어 가라\")\n"
   ]
  },
  {
   "cell_type": "code",
   "execution_count": 27,
   "metadata": {},
   "outputs": [],
   "source": [
    "# if문을 한 줄로 작성하기 \n",
    "pocket = [ \"paper\", \"money\", \"cellphone\"]\n",
    "\n",
    "if 'money' in pocket:\n",
    "    pass\n",
    "else: \n",
    "    print(\"카드를 꺼내라\")"
   ]
  },
  {
   "cell_type": "code",
   "execution_count": 28,
   "metadata": {},
   "outputs": [],
   "source": [
    "if 'money' in pocket: pass\n",
    "else: print(\"카드를 꺼내라\")"
   ]
  },
  {
   "cell_type": "code",
   "execution_count": 29,
   "metadata": {},
   "outputs": [],
   "source": [
    "score = 70\n",
    "\n",
    "if score > 60: \n",
    "    message = \"합격\"\n",
    "else: \n",
    "    message = \"불합격\""
   ]
  },
  {
   "cell_type": "code",
   "execution_count": null,
   "metadata": {},
   "outputs": [],
   "source": [
    "message = \"합격\" if score > 60 else \"불합격\""
   ]
  }
 ],
 "metadata": {
  "kernelspec": {
   "display_name": "Python 3",
   "language": "python",
   "name": "python3"
  },
  "language_info": {
   "codemirror_mode": {
    "name": "ipython",
    "version": 3
   },
   "file_extension": ".py",
   "mimetype": "text/x-python",
   "name": "python",
   "nbconvert_exporter": "python",
   "pygments_lexer": "ipython3",
   "version": "3.12.4"
  }
 },
 "nbformat": 4,
 "nbformat_minor": 2
}
