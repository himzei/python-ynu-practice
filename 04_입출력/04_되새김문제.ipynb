{
 "cells": [
  {
   "cell_type": "code",
   "execution_count": 1,
   "metadata": {},
   "outputs": [
    {
     "name": "stdout",
     "output_type": "stream",
     "text": [
      "True\n"
     ]
    }
   ],
   "source": [
    "# 01 홀수, 짝수 판별하기 \n",
    "\n",
    "def is_odd(number): \n",
    "    if number % 2 == 1:\n",
    "        return True \n",
    "    else: \n",
    "        return False\n",
    "\n",
    "result = is_odd(11)\n",
    "print(result)"
   ]
  },
  {
   "cell_type": "code",
   "execution_count": 3,
   "metadata": {},
   "outputs": [
    {
     "data": {
      "text/plain": [
       "15"
      ]
     },
     "execution_count": 3,
     "metadata": {},
     "output_type": "execute_result"
    }
   ],
   "source": [
    "# 02 모든 입력의 평균값 구하기 \n",
    "\n",
    "def avg_numbers(*args):\n",
    "    result = 0 \n",
    "    for i in args: \n",
    "        result += i\n",
    "    return result \n",
    "\n",
    "\n",
    "avg_numbers(1, 2)\n",
    "avg_numbers(1, 2, 3, 4, 5)\n"
   ]
  },
  {
   "cell_type": "code",
   "execution_count": 5,
   "metadata": {},
   "outputs": [
    {
     "name": "stdout",
     "output_type": "stream",
     "text": [
      "두 수의 합은 9 입니다\n"
     ]
    }
   ],
   "source": [
    "# 03 프로그램 오류 수정하기 1 \n",
    "\n",
    "input1 = input(\"첫 번째 숫자를 입력하세요: \")\n",
    "input2 = input(\"두 번째 숫자를 입력하세요: \")\n",
    "\n",
    "total = int(input1) + int(input2 )\n",
    "\n",
    "print(f\"두 수의 합은 {total} 입니다\")"
   ]
  },
  {
   "cell_type": "code",
   "execution_count": 9,
   "metadata": {},
   "outputs": [
    {
     "name": "stdout",
     "output_type": "stream",
     "text": [
      "youneedpython\n",
      "youneedpython\n",
      "you need python\n",
      "youneedpython\n"
     ]
    }
   ],
   "source": [
    "# 04 출력 결과가 다른 것은? \n",
    "\n",
    "print(\"you\" \"need\" \"python\")\n",
    "print(\"you\"+\"need\"+\"python\")\n",
    "print(\"you\", \"need\", \"python\")\n",
    "print(\"\".join([\"you\", \"need\", \"python\"]))\n"
   ]
  },
  {
   "cell_type": "code",
   "execution_count": 11,
   "metadata": {},
   "outputs": [
    {
     "name": "stdout",
     "output_type": "stream",
     "text": [
      "Life is too short\n"
     ]
    }
   ],
   "source": [
    "# 05 프로그램 오류 수정하기 \n",
    "\n",
    "f1 = open(\"./test.txt\", \"w\")\n",
    "f1.write(\"Life is too short\")\n",
    "f1.close() \n",
    "\n",
    "f2 = open(\"./test.txt\", \"r\")\n",
    "print(f2.read())\n",
    "f2.close()"
   ]
  },
  {
   "cell_type": "code",
   "execution_count": 14,
   "metadata": {},
   "outputs": [],
   "source": [
    "# 06 사용자 입력 저장하기 \n",
    "\n",
    "user_input = input(\"저장할 내용을 입력하세요: \")\n",
    "\n",
    "f = open(\"./test.txt\", \"a\")\n",
    "f.write(user_input)\n",
    "f.write(\"\\n\")\n",
    "f.close()"
   ]
  },
  {
   "cell_type": "code",
   "execution_count": 16,
   "metadata": {},
   "outputs": [],
   "source": [
    "# 07 파일의 문자열 바꾸기 \n",
    "\n",
    "f = open(\"./test.txt\", \"r\")\n",
    "body = f.read()\n",
    "# print(type(body))\n",
    "f.close() \n",
    "\n",
    "body = body.replace(\"java\", \"python\")\n",
    "\n",
    "f = open(\"./test.txt\", \"w\")\n",
    "f.write(body)\n",
    "f.close()\n"
   ]
  },
  {
   "cell_type": "code",
   "execution_count": null,
   "metadata": {},
   "outputs": [],
   "source": []
  }
 ],
 "metadata": {
  "kernelspec": {
   "display_name": "Python 3",
   "language": "python",
   "name": "python3"
  },
  "language_info": {
   "codemirror_mode": {
    "name": "ipython",
    "version": 3
   },
   "file_extension": ".py",
   "mimetype": "text/x-python",
   "name": "python",
   "nbconvert_exporter": "python",
   "pygments_lexer": "ipython3",
   "version": "3.12.4"
  }
 },
 "nbformat": 4,
 "nbformat_minor": 2
}
