{
 "cells": [
  {
   "cell_type": "markdown",
   "metadata": {},
   "source": [
    "퀴즈 1: 덧셈 함수 만들기\n",
    "문제: 두 개의 숫자를 입력받아 그 합을 반환하는 함수를 작성하세요.\n",
    "* 함수이름은 add_number"
   ]
  },
  {
   "cell_type": "code",
   "execution_count": 1,
   "metadata": {},
   "outputs": [
    {
     "name": "stdout",
     "output_type": "stream",
     "text": [
      "30\n"
     ]
    }
   ],
   "source": [
    "def add_number(a, b):\n",
    "    return a + b \n",
    "\n",
    "result = add_number(10, 20) \n",
    "print(result)"
   ]
  },
  {
   "cell_type": "markdown",
   "metadata": {},
   "source": [
    "퀴즈 2: 짝수 확인 함수 만들기\n",
    "문제: 주어진 숫자가 짝수인지 홀수인지 판별하는 함수를 작성하세요.\n",
    "\n"
   ]
  },
  {
   "cell_type": "code",
   "execution_count": 3,
   "metadata": {},
   "outputs": [
    {
     "name": "stdout",
     "output_type": "stream",
     "text": [
      "짝수\n",
      "홀수\n"
     ]
    }
   ],
   "source": [
    "def is_even(num):\n",
    "    if num % 2 == 0: \n",
    "        return \"짝수\"\n",
    "    else: \n",
    "        return \"홀수\"\n",
    "\n",
    "result = is_even(10)\n",
    "print(result)\n",
    "\n",
    "result = is_even(11)\n",
    "print(result)"
   ]
  },
  {
   "cell_type": "markdown",
   "metadata": {},
   "source": [
    "퀴즈 3: 리스트에서 최대값 찾기\n",
    "문제: 주어진 리스트에서 최대값을 찾는 함수를 작성하세요.\n",
    "* max() 함수를 사용하지 않고 직접 구현해보세요.\n"
   ]
  },
  {
   "cell_type": "code",
   "execution_count": 5,
   "metadata": {},
   "outputs": [
    {
     "name": "stdout",
     "output_type": "stream",
     "text": [
      "70\n"
     ]
    }
   ],
   "source": [
    "def find_max(list_num): \n",
    "    max_num = 0\n",
    "\n",
    "    for num in list_num: \n",
    "        if num > max_num: \n",
    "            max_num = num \n",
    "    \n",
    "    return max_num\n",
    "\n",
    "\n",
    "a = [10, 9, 20, 30, 70, 5]\n",
    "result = find_max(a)\n",
    "print(result)\n"
   ]
  },
  {
   "cell_type": "markdown",
   "metadata": {},
   "source": [
    "퀴즈 4: 구구단 출력하기\n",
    "문제: 주어진 숫자에 대해 구구단을 출력하는 함수를 작성하세요."
   ]
  },
  {
   "cell_type": "code",
   "execution_count": 8,
   "metadata": {},
   "outputs": [
    {
     "name": "stdout",
     "output_type": "stream",
     "text": [
      "['5 X 1 = 5', '5 X 2 = 10', '5 X 3 = 15', '5 X 4 = 20', '5 X 5 = 25', '5 X 6 = 30', '5 X 7 = 35', '5 X 8 = 40', '5 X 9 = 45']\n"
     ]
    }
   ],
   "source": [
    "def gugudan(dan): \n",
    "\n",
    "    result = []\n",
    "    for num in range(1, 10):\n",
    "        sik = f\"{dan} X {num} = {dan * num}\"\n",
    "        result.append(sik)\n",
    "    \n",
    "    return result \n",
    "\n",
    "\n",
    "result = gugudan(5)\n",
    "print(result)"
   ]
  },
  {
   "cell_type": "code",
   "execution_count": 9,
   "metadata": {},
   "outputs": [
    {
     "name": "stdout",
     "output_type": "stream",
     "text": [
      "5 X 1 = 5\n",
      "5 X 2 = 10\n",
      "5 X 3 = 15\n",
      "5 X 4 = 20\n",
      "5 X 5 = 25\n",
      "5 X 6 = 30\n",
      "5 X 7 = 35\n",
      "5 X 8 = 40\n",
      "5 X 9 = 45\n"
     ]
    }
   ],
   "source": [
    "def gugudan(dan): \n",
    "\n",
    "    for num in range(1, 10):\n",
    "        print(f\"{dan} X {num} = {dan * num}\")\n",
    "\n",
    "\n",
    "gugudan(5)\n"
   ]
  },
  {
   "cell_type": "markdown",
   "metadata": {},
   "source": []
  },
  {
   "cell_type": "markdown",
   "metadata": {},
   "source": [
    "퀴즈 5. 날짜 2024-08-21 10:00 를 24년 8월 21일로 바꾸는 함수를 만들어 주세요 "
   ]
  },
  {
   "cell_type": "code",
   "execution_count": 18,
   "metadata": {},
   "outputs": [
    {
     "name": "stdout",
     "output_type": "stream",
     "text": [
      "24년 08월 22일\n"
     ]
    }
   ],
   "source": [
    "def date_format(date_value):\n",
    "    temp = date_value.split(\"-\")\n",
    "    year = temp[0][2:4]\n",
    "    month = temp[1]\n",
    "    day = temp[2][0:2]\n",
    "    return f\"{year}년 {month}월 {day}일\"\n",
    "\n",
    "date_value = \"2024-08-22 GMT10:00\"\n",
    "result = date_format(date_value)\n",
    "print(result)"
   ]
  },
  {
   "cell_type": "markdown",
   "metadata": {},
   "source": [
    "퀴즈 6: 특정 단어 세기\n",
    "문제: 주어진 문장에서 특정 단어가 몇 번 나타나는지 세는 함수를 작성하세요.\n",
    "* 함수이름은 count_word\n",
    "* 함수는 두 개의 매개변수 sentence와 word를 받아야 합니다.\n",
    "\n"
   ]
  },
  {
   "cell_type": "code",
   "execution_count": 19,
   "metadata": {},
   "outputs": [
    {
     "name": "stdout",
     "output_type": "stream",
     "text": [
      "5\n"
     ]
    }
   ],
   "source": [
    "def count_word(sentence, word):\n",
    "    result = sentence.count(word)\n",
    "    return result\n",
    "\n",
    "sentence = \"\"\" \n",
    "그는 “내 삶이 없다. 일당 20만 원짜리 일용직 수준으로 일할 수 있다”며, 임현식을 도와 넓은 전원주택을 관리하며 느끼는 어려움을 고백해 안타까움을 더했습니다.\n",
    "\n",
    "실제 영상에서는 임현식이 고령에도 불구하고 사위의 일 처리를 감시하느라 한여름에도 바쁘게 움직이는 모습이 담겨 있어, 그의 강박적인 생활 태도가 드러났는데요.\n",
    "\n",
    "또한 임현식은 “소독과 쟁기질은 내가 해야 한다”는 생각에 사과나무에 농약을 뿌리다 잘못 들이마셔 의식을 잃은 적도 있다고 털어놓았습니다.\n",
    "\n",
    "오은영 박사는 임현식의 이러한 행동을 ‘슈퍼 노인 증후군’이라고 분석하며, 은퇴 후에도 끊임없이 바쁘게 살아야 한다는 압박감을 느끼는 상황을 지적했습니다.\n",
    "\n",
    "임현식은 53년 동안 무려 1000편이 넘는 작품에 출연했으며, 언제나 쓸 만한 배우가 되기 위해 바쁘게 살았다고 고백했는데요.\n",
    "\n",
    "심지어 그는 아내의 상중에도 촬영장을 나갔고, 어머니의 빈소에서도 대본을 놓지 못했다고 말해, 일에 대한 책임감이 얼마나 깊은지를 보여주었습니다.\n",
    "\"\"\"\n",
    "word = \"임현식\"\n",
    "result = count_word(sentence, word)\n",
    "print(result)"
   ]
  },
  {
   "cell_type": "markdown",
   "metadata": {},
   "source": []
  }
 ],
 "metadata": {
  "kernelspec": {
   "display_name": "Python 3",
   "language": "python",
   "name": "python3"
  },
  "language_info": {
   "codemirror_mode": {
    "name": "ipython",
    "version": 3
   },
   "file_extension": ".py",
   "mimetype": "text/x-python",
   "name": "python",
   "nbconvert_exporter": "python",
   "pygments_lexer": "ipython3",
   "version": "3.12.4"
  }
 },
 "nbformat": 4,
 "nbformat_minor": 2
}
