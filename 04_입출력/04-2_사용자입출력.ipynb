{
 "cells": [
  {
   "cell_type": "code",
   "execution_count": 1,
   "metadata": {},
   "outputs": [
    {
     "name": "stdout",
     "output_type": "stream",
     "text": [
      "1\n",
      "<class 'str'>\n"
     ]
    }
   ],
   "source": [
    "# input 사용하기 \n",
    "\n",
    "a = input()\n",
    "print(a)\n",
    "\n",
    "# input(안내문구)\n",
    "\n",
    "number = int(input(\"숫자를 입력하세요: \"))\n",
    "print(type(int(number)))"
   ]
  },
  {
   "cell_type": "code",
   "execution_count": 4,
   "metadata": {},
   "outputs": [
    {
     "name": "stdout",
     "output_type": "stream",
     "text": [
      "lifeistooshort\n",
      "lifeistooshort\n",
      "lifeistooshort\n",
      "life is too short\n"
     ]
    }
   ],
   "source": [
    "# print 자세히 알기 \n",
    "\n",
    "print(\"lifeistooshort\")\n",
    "print(\"life\" \"is\" \"too\" \"short\")\n",
    "print(\"life\"+\"is\"+\"too\"+\"short\")\n",
    "print(\"life\",\"is\",\"too\",\"short\")"
   ]
  },
  {
   "cell_type": "code",
   "execution_count": 7,
   "metadata": {},
   "outputs": [
    {
     "name": "stdout",
     "output_type": "stream",
     "text": [
      "0😀1😀2😀3😀4😀5😀6😀7😀8😀9😀"
     ]
    }
   ],
   "source": [
    "# 한 줄에 결과값 출력하기 \n",
    "for i in range(10):\n",
    "    print(i, end=\"😀\")"
   ]
  },
  {
   "cell_type": "code",
   "execution_count": null,
   "metadata": {},
   "outputs": [],
   "source": []
  }
 ],
 "metadata": {
  "kernelspec": {
   "display_name": "Python 3",
   "language": "python",
   "name": "python3"
  },
  "language_info": {
   "codemirror_mode": {
    "name": "ipython",
    "version": 3
   },
   "file_extension": ".py",
   "mimetype": "text/x-python",
   "name": "python",
   "nbconvert_exporter": "python",
   "pygments_lexer": "ipython3",
   "version": "3.12.4"
  }
 },
 "nbformat": 4,
 "nbformat_minor": 2
}
